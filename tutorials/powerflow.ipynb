{
 "cells": [
  {
   "cell_type": "markdown",
   "metadata": {},
   "source": [
    "# Running a Power Flow"
   ]
  },
  {
   "cell_type": "markdown",
   "metadata": {},
   "source": [
    "We load the simple example network from the create_network tutorial from the pandapower.networks module:"
   ]
  },
  {
   "cell_type": "code",
   "execution_count": 27,
   "metadata": {},
   "outputs": [
    {
     "data": {
      "text/plain": [
       "This pandapower network includes the following parameter tables:\n",
       "   - bus (7 elements)\n",
       "   - shunt (1 elements)\n",
       "   - ext_grid (1 elements)\n",
       "   - switch (8 elements)\n",
       "   - sgen (1 elements)\n",
       "   - load (1 elements)\n",
       "   - trafo (1 elements)\n",
       "   - gen (1 elements)\n",
       "   - line (4 elements)"
      ]
     },
     "execution_count": 27,
     "metadata": {},
     "output_type": "execute_result"
    }
   ],
   "source": [
    "import pandapower as pp\n",
    "import pandapower.networks\n",
    "\n",
    "net = pandapower.networks.example_simple()\n",
    "net"
   ]
  },
  {
   "cell_type": "markdown",
   "metadata": {},
   "source": [
    "## Run a Power Flow and Access Results"
   ]
  },
  {
   "cell_type": "markdown",
   "metadata": {
    "collapsed": true
   },
   "source": [
    "Runing a loadflow adds seperate result table with the prefix 'res_':"
   ]
  },
  {
   "cell_type": "code",
   "execution_count": 28,
   "metadata": {
    "collapsed": true
   },
   "outputs": [],
   "source": [
    "pp.runpp(net)"
   ]
  },
  {
   "cell_type": "code",
   "execution_count": 29,
   "metadata": {},
   "outputs": [
    {
     "data": {
      "text/plain": [
       "This pandapower network includes the following parameter tables:\n",
       "   - bus (7 elements)\n",
       "   - shunt (1 elements)\n",
       "   - ext_grid (1 elements)\n",
       "   - switch (8 elements)\n",
       "   - sgen (1 elements)\n",
       "   - load (1 elements)\n",
       "   - trafo (1 elements)\n",
       "   - gen (1 elements)\n",
       "   - line (4 elements)\n",
       " and the following results tables:\n",
       "   - res_ext_grid (1 elements)\n",
       "   - res_gen (1 elements)\n",
       "   - res_sgen (1 elements)\n",
       "   - res_load (1 elements)\n",
       "   - res_shunt (1 elements)\n",
       "   - res_trafo (1 elements)\n",
       "   - res_line (4 elements)\n",
       "   - res_bus (7 elements)"
      ]
     },
     "execution_count": 29,
     "metadata": {},
     "output_type": "execute_result"
    }
   ],
   "source": [
    "net"
   ]
  },
  {
   "cell_type": "markdown",
   "metadata": {},
   "source": [
    "These results tables are pandas datafarmes with the same index as the element table. For example, the bus table contains all bus voltages and summed bus power injections:"
   ]
  },
  {
   "cell_type": "code",
   "execution_count": 30,
   "metadata": {},
   "outputs": [
    {
     "data": {
      "text/html": [
       "<div>\n",
       "<table border=\"1\" class=\"dataframe\">\n",
       "  <thead>\n",
       "    <tr style=\"text-align: right;\">\n",
       "      <th></th>\n",
       "      <th>vm_pu</th>\n",
       "      <th>va_degree</th>\n",
       "      <th>p_kw</th>\n",
       "      <th>q_kvar</th>\n",
       "    </tr>\n",
       "  </thead>\n",
       "  <tbody>\n",
       "    <tr>\n",
       "      <th>0</th>\n",
       "      <td>1.020000</td>\n",
       "      <td>50.000000</td>\n",
       "      <td>6727.268201</td>\n",
       "      <td>7262.701273</td>\n",
       "    </tr>\n",
       "    <tr>\n",
       "      <th>1</th>\n",
       "      <td>1.020842</td>\n",
       "      <td>50.032006</td>\n",
       "      <td>0.000000</td>\n",
       "      <td>0.000000</td>\n",
       "    </tr>\n",
       "    <tr>\n",
       "      <th>2</th>\n",
       "      <td>1.020842</td>\n",
       "      <td>50.032006</td>\n",
       "      <td>0.000000</td>\n",
       "      <td>-1000.434322</td>\n",
       "    </tr>\n",
       "    <tr>\n",
       "      <th>3</th>\n",
       "      <td>1.024513</td>\n",
       "      <td>-98.316276</td>\n",
       "      <td>0.000000</td>\n",
       "      <td>0.000000</td>\n",
       "    </tr>\n",
       "    <tr>\n",
       "      <th>4</th>\n",
       "      <td>1.024513</td>\n",
       "      <td>-98.316276</td>\n",
       "      <td>0.000000</td>\n",
       "      <td>0.000000</td>\n",
       "    </tr>\n",
       "    <tr>\n",
       "      <th>5</th>\n",
       "      <td>1.030000</td>\n",
       "      <td>-98.251691</td>\n",
       "      <td>-6000.000000</td>\n",
       "      <td>-3513.228774</td>\n",
       "    </tr>\n",
       "    <tr>\n",
       "      <th>6</th>\n",
       "      <td>1.023156</td>\n",
       "      <td>-98.166885</td>\n",
       "      <td>-800.000000</td>\n",
       "      <td>2900.000000</td>\n",
       "    </tr>\n",
       "  </tbody>\n",
       "</table>\n",
       "</div>"
      ],
      "text/plain": [
       "      vm_pu  va_degree         p_kw       q_kvar\n",
       "0  1.020000  50.000000  6727.268201  7262.701273\n",
       "1  1.020842  50.032006     0.000000     0.000000\n",
       "2  1.020842  50.032006     0.000000 -1000.434322\n",
       "3  1.024513 -98.316276     0.000000     0.000000\n",
       "4  1.024513 -98.316276     0.000000     0.000000\n",
       "5  1.030000 -98.251691 -6000.000000 -3513.228774\n",
       "6  1.023156 -98.166885  -800.000000  2900.000000"
      ]
     },
     "execution_count": 30,
     "metadata": {},
     "output_type": "execute_result"
    }
   ],
   "source": [
    " net.res_bus"
   ]
  },
  {
   "cell_type": "markdown",
   "metadata": {},
   "source": [
    "We can now use pandas functionality to analyse the loadflow results, for example to get the minimum voltage in the medium voltage level:"
   ]
  },
  {
   "cell_type": "code",
   "execution_count": 31,
   "metadata": {},
   "outputs": [
    {
     "data": {
      "text/plain": [
       "1.0231555578398985"
      ]
     },
     "execution_count": 31,
     "metadata": {},
     "output_type": "execute_result"
    }
   ],
   "source": [
    "net.res_bus[net.bus.vn_kv==20.].vm_pu.min()"
   ]
  },
  {
   "cell_type": "markdown",
   "metadata": {},
   "source": [
    "or the maxium voltage at a bus with load or generation:"
   ]
  },
  {
   "cell_type": "code",
   "execution_count": 32,
   "metadata": {},
   "outputs": [
    {
     "data": {
      "text/plain": [
       "1.0300000000000002"
      ]
     },
     "execution_count": 32,
     "metadata": {},
     "output_type": "execute_result"
    }
   ],
   "source": [
    "load_or_generation_buses = set(net.load.bus.values) | set(net.sgen.bus.values) | set(net.gen.bus.values)\n",
    "net.res_bus.vm_pu.loc[load_or_generation_buses].max()"
   ]
  },
  {
   "cell_type": "markdown",
   "metadata": {},
   "source": [
    "For more on how to use pandas for data analysis in pandapower, see the tutorial on [data analysis](data_analysis.ipynb)."
   ]
  },
  {
   "cell_type": "markdown",
   "metadata": {},
   "source": [
    "## Result tables"
   ]
  },
  {
   "cell_type": "markdown",
   "metadata": {},
   "source": [
    "Each element (except the switch) has its own result table with results tailored to the specific element. Here, we just show each table. For parameters definitions, see the documentation of the datastructure."
   ]
  },
  {
   "cell_type": "code",
   "execution_count": 33,
   "metadata": {},
   "outputs": [
    {
     "data": {
      "text/html": [
       "<div>\n",
       "<table border=\"1\" class=\"dataframe\">\n",
       "  <thead>\n",
       "    <tr style=\"text-align: right;\">\n",
       "      <th></th>\n",
       "      <th>vm_pu</th>\n",
       "      <th>va_degree</th>\n",
       "      <th>p_kw</th>\n",
       "      <th>q_kvar</th>\n",
       "    </tr>\n",
       "  </thead>\n",
       "  <tbody>\n",
       "    <tr>\n",
       "      <th>0</th>\n",
       "      <td>1.020000</td>\n",
       "      <td>50.000000</td>\n",
       "      <td>6727.268201</td>\n",
       "      <td>7262.701273</td>\n",
       "    </tr>\n",
       "    <tr>\n",
       "      <th>1</th>\n",
       "      <td>1.020842</td>\n",
       "      <td>50.032006</td>\n",
       "      <td>0.000000</td>\n",
       "      <td>0.000000</td>\n",
       "    </tr>\n",
       "    <tr>\n",
       "      <th>2</th>\n",
       "      <td>1.020842</td>\n",
       "      <td>50.032006</td>\n",
       "      <td>0.000000</td>\n",
       "      <td>-1000.434322</td>\n",
       "    </tr>\n",
       "    <tr>\n",
       "      <th>3</th>\n",
       "      <td>1.024513</td>\n",
       "      <td>-98.316276</td>\n",
       "      <td>0.000000</td>\n",
       "      <td>0.000000</td>\n",
       "    </tr>\n",
       "    <tr>\n",
       "      <th>4</th>\n",
       "      <td>1.024513</td>\n",
       "      <td>-98.316276</td>\n",
       "      <td>0.000000</td>\n",
       "      <td>0.000000</td>\n",
       "    </tr>\n",
       "    <tr>\n",
       "      <th>5</th>\n",
       "      <td>1.030000</td>\n",
       "      <td>-98.251691</td>\n",
       "      <td>-6000.000000</td>\n",
       "      <td>-3513.228774</td>\n",
       "    </tr>\n",
       "    <tr>\n",
       "      <th>6</th>\n",
       "      <td>1.023156</td>\n",
       "      <td>-98.166885</td>\n",
       "      <td>-800.000000</td>\n",
       "      <td>2900.000000</td>\n",
       "    </tr>\n",
       "  </tbody>\n",
       "</table>\n",
       "</div>"
      ],
      "text/plain": [
       "      vm_pu  va_degree         p_kw       q_kvar\n",
       "0  1.020000  50.000000  6727.268201  7262.701273\n",
       "1  1.020842  50.032006     0.000000     0.000000\n",
       "2  1.020842  50.032006     0.000000 -1000.434322\n",
       "3  1.024513 -98.316276     0.000000     0.000000\n",
       "4  1.024513 -98.316276     0.000000     0.000000\n",
       "5  1.030000 -98.251691 -6000.000000 -3513.228774\n",
       "6  1.023156 -98.166885  -800.000000  2900.000000"
      ]
     },
     "execution_count": 33,
     "metadata": {},
     "output_type": "execute_result"
    }
   ],
   "source": [
    "net.res_bus"
   ]
  },
  {
   "cell_type": "code",
   "execution_count": 34,
   "metadata": {},
   "outputs": [
    {
     "data": {
      "text/html": [
       "<div>\n",
       "<table border=\"1\" class=\"dataframe\">\n",
       "  <thead>\n",
       "    <tr style=\"text-align: right;\">\n",
       "      <th></th>\n",
       "      <th>p_kw</th>\n",
       "      <th>q_kvar</th>\n",
       "    </tr>\n",
       "  </thead>\n",
       "  <tbody>\n",
       "    <tr>\n",
       "      <th>0</th>\n",
       "      <td>6727.268201</td>\n",
       "      <td>7262.701273</td>\n",
       "    </tr>\n",
       "  </tbody>\n",
       "</table>\n",
       "</div>"
      ],
      "text/plain": [
       "          p_kw       q_kvar\n",
       "0  6727.268201  7262.701273"
      ]
     },
     "execution_count": 34,
     "metadata": {},
     "output_type": "execute_result"
    }
   ],
   "source": [
    "net.res_ext_grid"
   ]
  },
  {
   "cell_type": "code",
   "execution_count": 35,
   "metadata": {},
   "outputs": [
    {
     "data": {
      "text/html": [
       "<div>\n",
       "<table border=\"1\" class=\"dataframe\">\n",
       "  <thead>\n",
       "    <tr style=\"text-align: right;\">\n",
       "      <th></th>\n",
       "      <th>p_from_kw</th>\n",
       "      <th>q_from_kvar</th>\n",
       "      <th>p_to_kw</th>\n",
       "      <th>q_to_kvar</th>\n",
       "      <th>pl_kw</th>\n",
       "      <th>ql_kvar</th>\n",
       "      <th>i_from_ka</th>\n",
       "      <th>i_to_ka</th>\n",
       "      <th>i_ka</th>\n",
       "      <th>loading_percent</th>\n",
       "    </tr>\n",
       "  </thead>\n",
       "  <tbody>\n",
       "    <tr>\n",
       "      <th>0</th>\n",
       "      <td>-6727.268201</td>\n",
       "      <td>-7262.701328</td>\n",
       "      <td>6.730354e+03</td>\n",
       "      <td>1.570346e+03</td>\n",
       "      <td>3.086061</td>\n",
       "      <td>-5692.355559</td>\n",
       "      <td>0.050941</td>\n",
       "      <td>3.553340e-02</td>\n",
       "      <td>0.050941</td>\n",
       "      <td>8.663409</td>\n",
       "    </tr>\n",
       "    <tr>\n",
       "      <th>1</th>\n",
       "      <td>-5972.020868</td>\n",
       "      <td>-3572.601668</td>\n",
       "      <td>6.000000e+03</td>\n",
       "      <td>3.517662e+03</td>\n",
       "      <td>27.979108</td>\n",
       "      <td>-54.940094</td>\n",
       "      <td>0.196084</td>\n",
       "      <td>1.949296e-01</td>\n",
       "      <td>0.196084</td>\n",
       "      <td>46.575820</td>\n",
       "    </tr>\n",
       "    <tr>\n",
       "      <th>2</th>\n",
       "      <td>0.000024</td>\n",
       "      <td>-4.432793</td>\n",
       "      <td>9.641213e-08</td>\n",
       "      <td>6.042757e-08</td>\n",
       "      <td>0.000024</td>\n",
       "      <td>-4.432793</td>\n",
       "      <td>0.000124</td>\n",
       "      <td>3.188969e-12</td>\n",
       "      <td>0.000124</td>\n",
       "      <td>0.059160</td>\n",
       "    </tr>\n",
       "    <tr>\n",
       "      <th>3</th>\n",
       "      <td>800.000000</td>\n",
       "      <td>-2900.000000</td>\n",
       "      <td>-7.936175e+02</td>\n",
       "      <td>2.805748e+03</td>\n",
       "      <td>6.382452</td>\n",
       "      <td>-94.251942</td>\n",
       "      <td>0.084877</td>\n",
       "      <td>8.215876e-02</td>\n",
       "      <td>0.084877</td>\n",
       "      <td>20.160899</td>\n",
       "    </tr>\n",
       "  </tbody>\n",
       "</table>\n",
       "</div>"
      ],
      "text/plain": [
       "     p_from_kw  q_from_kvar       p_to_kw     q_to_kvar      pl_kw  \\\n",
       "0 -6727.268201 -7262.701328  6.730354e+03  1.570346e+03   3.086061   \n",
       "1 -5972.020868 -3572.601668  6.000000e+03  3.517662e+03  27.979108   \n",
       "2     0.000024    -4.432793  9.641213e-08  6.042757e-08   0.000024   \n",
       "3   800.000000 -2900.000000 -7.936175e+02  2.805748e+03   6.382452   \n",
       "\n",
       "       ql_kvar  i_from_ka       i_to_ka      i_ka  loading_percent  \n",
       "0 -5692.355559   0.050941  3.553340e-02  0.050941         8.663409  \n",
       "1   -54.940094   0.196084  1.949296e-01  0.196084        46.575820  \n",
       "2    -4.432793   0.000124  3.188969e-12  0.000124         0.059160  \n",
       "3   -94.251942   0.084877  8.215876e-02  0.084877        20.160899  "
      ]
     },
     "execution_count": 35,
     "metadata": {},
     "output_type": "execute_result"
    }
   ],
   "source": [
    "net.res_line"
   ]
  },
  {
   "cell_type": "code",
   "execution_count": 36,
   "metadata": {},
   "outputs": [
    {
     "data": {
      "text/html": [
       "<div>\n",
       "<table border=\"1\" class=\"dataframe\">\n",
       "  <thead>\n",
       "    <tr style=\"text-align: right;\">\n",
       "      <th></th>\n",
       "      <th>p_hv_kw</th>\n",
       "      <th>q_hv_kvar</th>\n",
       "      <th>p_lv_kw</th>\n",
       "      <th>q_lv_kvar</th>\n",
       "      <th>pl_kw</th>\n",
       "      <th>ql_kvar</th>\n",
       "      <th>i_hv_ka</th>\n",
       "      <th>i_lv_ka</th>\n",
       "      <th>loading_percent</th>\n",
       "    </tr>\n",
       "  </thead>\n",
       "  <tbody>\n",
       "    <tr>\n",
       "      <th>0</th>\n",
       "      <td>-6730.354263</td>\n",
       "      <td>-569.911445</td>\n",
       "      <td>6765.638417</td>\n",
       "      <td>766.853612</td>\n",
       "      <td>35.284154</td>\n",
       "      <td>196.942168</td>\n",
       "      <td>0.034728</td>\n",
       "      <td>0.191855</td>\n",
       "      <td>26.584187</td>\n",
       "    </tr>\n",
       "  </tbody>\n",
       "</table>\n",
       "</div>"
      ],
      "text/plain": [
       "       p_hv_kw   q_hv_kvar      p_lv_kw   q_lv_kvar      pl_kw     ql_kvar  \\\n",
       "0 -6730.354263 -569.911445  6765.638417  766.853612  35.284154  196.942168   \n",
       "\n",
       "    i_hv_ka   i_lv_ka  loading_percent  \n",
       "0  0.034728  0.191855        26.584187  "
      ]
     },
     "execution_count": 36,
     "metadata": {},
     "output_type": "execute_result"
    }
   ],
   "source": [
    "net.res_trafo"
   ]
  },
  {
   "cell_type": "code",
   "execution_count": 37,
   "metadata": {},
   "outputs": [
    {
     "data": {
      "text/html": [
       "<div>\n",
       "<table border=\"1\" class=\"dataframe\">\n",
       "  <thead>\n",
       "    <tr style=\"text-align: right;\">\n",
       "      <th></th>\n",
       "      <th>p_kw</th>\n",
       "      <th>q_kvar</th>\n",
       "    </tr>\n",
       "  </thead>\n",
       "  <tbody>\n",
       "    <tr>\n",
       "      <th>0</th>\n",
       "      <td>1200.0</td>\n",
       "      <td>2400.0</td>\n",
       "    </tr>\n",
       "  </tbody>\n",
       "</table>\n",
       "</div>"
      ],
      "text/plain": [
       "     p_kw  q_kvar\n",
       "0  1200.0  2400.0"
      ]
     },
     "execution_count": 37,
     "metadata": {},
     "output_type": "execute_result"
    }
   ],
   "source": [
    "net.res_load"
   ]
  },
  {
   "cell_type": "code",
   "execution_count": 38,
   "metadata": {},
   "outputs": [
    {
     "data": {
      "text/html": [
       "<div>\n",
       "<table border=\"1\" class=\"dataframe\">\n",
       "  <thead>\n",
       "    <tr style=\"text-align: right;\">\n",
       "      <th></th>\n",
       "      <th>p_kw</th>\n",
       "      <th>q_kvar</th>\n",
       "    </tr>\n",
       "  </thead>\n",
       "  <tbody>\n",
       "    <tr>\n",
       "      <th>0</th>\n",
       "      <td>-2000.0</td>\n",
       "      <td>500.0</td>\n",
       "    </tr>\n",
       "  </tbody>\n",
       "</table>\n",
       "</div>"
      ],
      "text/plain": [
       "     p_kw  q_kvar\n",
       "0 -2000.0   500.0"
      ]
     },
     "execution_count": 38,
     "metadata": {},
     "output_type": "execute_result"
    }
   ],
   "source": [
    "net.res_sgen"
   ]
  },
  {
   "cell_type": "code",
   "execution_count": 39,
   "metadata": {},
   "outputs": [
    {
     "data": {
      "text/html": [
       "<div>\n",
       "<table border=\"1\" class=\"dataframe\">\n",
       "  <thead>\n",
       "    <tr style=\"text-align: right;\">\n",
       "      <th></th>\n",
       "      <th>p_kw</th>\n",
       "      <th>q_kvar</th>\n",
       "      <th>va_degree</th>\n",
       "      <th>vm_pu</th>\n",
       "    </tr>\n",
       "  </thead>\n",
       "  <tbody>\n",
       "    <tr>\n",
       "      <th>0</th>\n",
       "      <td>-6000.0</td>\n",
       "      <td>-3513.228774</td>\n",
       "      <td>-98.251691</td>\n",
       "      <td>1.03</td>\n",
       "    </tr>\n",
       "  </tbody>\n",
       "</table>\n",
       "</div>"
      ],
      "text/plain": [
       "     p_kw       q_kvar  va_degree  vm_pu\n",
       "0 -6000.0 -3513.228774 -98.251691   1.03"
      ]
     },
     "execution_count": 39,
     "metadata": {},
     "output_type": "execute_result"
    }
   ],
   "source": [
    "net.res_gen"
   ]
  },
  {
   "cell_type": "code",
   "execution_count": 40,
   "metadata": {},
   "outputs": [
    {
     "data": {
      "text/html": [
       "<div>\n",
       "<table border=\"1\" class=\"dataframe\">\n",
       "  <thead>\n",
       "    <tr style=\"text-align: right;\">\n",
       "      <th></th>\n",
       "      <th>p_kw</th>\n",
       "      <th>q_kvar</th>\n",
       "      <th>vm_pu</th>\n",
       "    </tr>\n",
       "  </thead>\n",
       "  <tbody>\n",
       "    <tr>\n",
       "      <th>0</th>\n",
       "      <td>0.0</td>\n",
       "      <td>-1000.434322</td>\n",
       "      <td>1.020842</td>\n",
       "    </tr>\n",
       "  </tbody>\n",
       "</table>\n",
       "</div>"
      ],
      "text/plain": [
       "   p_kw       q_kvar     vm_pu\n",
       "0   0.0 -1000.434322  1.020842"
      ]
     },
     "execution_count": 40,
     "metadata": {},
     "output_type": "execute_result"
    }
   ],
   "source": [
    "net.res_shunt"
   ]
  },
  {
   "cell_type": "markdown",
   "metadata": {},
   "source": [
    "## Voltage Angles and Initialization"
   ]
  },
  {
   "cell_type": "markdown",
   "metadata": {},
   "source": [
    "Maybe you wondered why even though there is a voltage angle of 50 degrees defined for the external grid: "
   ]
  },
  {
   "cell_type": "code",
   "execution_count": 41,
   "metadata": {},
   "outputs": [
    {
     "data": {
      "text/plain": [
       "0    50.0\n",
       "Name: va_degree, dtype: float64"
      ]
     },
     "execution_count": 41,
     "metadata": {},
     "output_type": "execute_result"
    }
   ],
   "source": [
    "net.ext_grid.va_degree"
   ]
  },
  {
   "cell_type": "markdown",
   "metadata": {},
   "source": [
    "and a shift of 150° over the HV/MV transformer:"
   ]
  },
  {
   "cell_type": "code",
   "execution_count": 42,
   "metadata": {},
   "outputs": [
    {
     "data": {
      "text/plain": [
       "0    150.0\n",
       "Name: shift_degree, dtype: float64"
      ]
     },
     "execution_count": 42,
     "metadata": {},
     "output_type": "execute_result"
    }
   ],
   "source": [
    "net.trafo.shift_degree"
   ]
  },
  {
   "cell_type": "markdown",
   "metadata": {},
   "source": [
    "the voltage angles are all close to zero:"
   ]
  },
  {
   "cell_type": "code",
   "execution_count": 43,
   "metadata": {},
   "outputs": [
    {
     "data": {
      "text/plain": [
       "0    50.000000\n",
       "1    50.032006\n",
       "2    50.032006\n",
       "3   -98.316276\n",
       "4   -98.316276\n",
       "5   -98.251691\n",
       "6   -98.166885\n",
       "Name: va_degree, dtype: float64"
      ]
     },
     "execution_count": 43,
     "metadata": {},
     "output_type": "execute_result"
    }
   ],
   "source": [
    "pp.runpp(net)\n",
    "net.res_bus.va_degree"
   ]
  },
  {
   "cell_type": "markdown",
   "metadata": {},
   "source": [
    "That is because the standard parameter for calculate_voltage_angles is False, which means voltage angles at external grids and transformer shifts are ignored by default. In a radial network, the absolute voltage angle shifts do not have an influence on the power flow, which is why they are disabled by default. In meshed networks however, where multiple external grids are galvanically coupled, it is always necessary to calculate the voltage angles.\n",
    "\n",
    "Suppose we want to calculate the correct voltage angles and set calculate_voltage_angles to True:"
   ]
  },
  {
   "cell_type": "code",
   "execution_count": 44,
   "metadata": {
    "collapsed": true
   },
   "outputs": [],
   "source": [
    "pp.runpp(net, calculate_voltage_angles=True)"
   ]
  },
  {
   "cell_type": "markdown",
   "metadata": {},
   "source": [
    "Now the power flow does not converge. This can happen with large angle shifts. The solution is to use a initialization with a DC loadflow instead of a flat start, which is default behaviour:"
   ]
  },
  {
   "cell_type": "code",
   "execution_count": 45,
   "metadata": {
    "collapsed": true
   },
   "outputs": [],
   "source": [
    "pp.runpp(net, calculate_voltage_angles=True, init=\"dc\")"
   ]
  },
  {
   "cell_type": "markdown",
   "metadata": {},
   "source": [
    "Now, we can see that all voltage angles are correctly calculated:"
   ]
  },
  {
   "cell_type": "code",
   "execution_count": 46,
   "metadata": {},
   "outputs": [
    {
     "data": {
      "text/plain": [
       "0    50.000000\n",
       "1    50.032006\n",
       "2    50.032006\n",
       "3   -98.316276\n",
       "4   -98.316276\n",
       "5   -98.251691\n",
       "6   -98.166885\n",
       "Name: va_degree, dtype: float64"
      ]
     },
     "execution_count": 46,
     "metadata": {},
     "output_type": "execute_result"
    }
   ],
   "source": [
    "net.res_bus.va_degree"
   ]
  },
  {
   "cell_type": "markdown",
   "metadata": {},
   "source": [
    "If we already have a solution, we can also initialize the loadflow with the voltage values from the last loadflow:"
   ]
  },
  {
   "cell_type": "code",
   "execution_count": 47,
   "metadata": {},
   "outputs": [
    {
     "data": {
      "text/plain": [
       "0    50.000000\n",
       "1    50.032006\n",
       "2    50.032006\n",
       "3   -98.316276\n",
       "4   -98.316276\n",
       "5   -98.251691\n",
       "6   -98.166885\n",
       "Name: va_degree, dtype: float64"
      ]
     },
     "execution_count": 47,
     "metadata": {},
     "output_type": "execute_result"
    }
   ],
   "source": [
    "pp.runpp(net, calculate_voltage_angles=True, init=\"results\")\n",
    "net.res_bus.va_degree"
   ]
  },
  {
   "cell_type": "markdown",
   "metadata": {},
   "source": [
    "The power flow converges and yields correct results where a flat start power flow would have failed.\n",
    "\n",
    "Initializing with previous results can save convergence time in cases where multiple power flows with simliar input parameters are carried out consecutively, such as in quasi-static time series simulations."
   ]
  },
  {
   "cell_type": "markdown",
   "metadata": {},
   "source": [
    "## Transformer Model"
   ]
  },
  {
   "cell_type": "markdown",
   "metadata": {},
   "source": [
    "The parameter \"trafo_model\" can be used to switch between a 'pi' and a 't' transformer model:"
   ]
  },
  {
   "cell_type": "code",
   "execution_count": 48,
   "metadata": {},
   "outputs": [
    {
     "data": {
      "text/html": [
       "<div>\n",
       "<table border=\"1\" class=\"dataframe\">\n",
       "  <thead>\n",
       "    <tr style=\"text-align: right;\">\n",
       "      <th></th>\n",
       "      <th>p_hv_kw</th>\n",
       "      <th>q_hv_kvar</th>\n",
       "      <th>p_lv_kw</th>\n",
       "      <th>q_lv_kvar</th>\n",
       "      <th>pl_kw</th>\n",
       "      <th>ql_kvar</th>\n",
       "      <th>i_hv_ka</th>\n",
       "      <th>i_lv_ka</th>\n",
       "      <th>loading_percent</th>\n",
       "    </tr>\n",
       "  </thead>\n",
       "  <tbody>\n",
       "    <tr>\n",
       "      <th>0</th>\n",
       "      <td>-6730.354263</td>\n",
       "      <td>-569.911445</td>\n",
       "      <td>6765.638417</td>\n",
       "      <td>766.853612</td>\n",
       "      <td>35.284154</td>\n",
       "      <td>196.942168</td>\n",
       "      <td>0.034728</td>\n",
       "      <td>0.191855</td>\n",
       "      <td>26.584187</td>\n",
       "    </tr>\n",
       "  </tbody>\n",
       "</table>\n",
       "</div>"
      ],
      "text/plain": [
       "       p_hv_kw   q_hv_kvar      p_lv_kw   q_lv_kvar      pl_kw     ql_kvar  \\\n",
       "0 -6730.354263 -569.911445  6765.638417  766.853612  35.284154  196.942168   \n",
       "\n",
       "    i_hv_ka   i_lv_ka  loading_percent  \n",
       "0  0.034728  0.191855        26.584187  "
      ]
     },
     "execution_count": 48,
     "metadata": {},
     "output_type": "execute_result"
    }
   ],
   "source": [
    "pp.runpp(net, trafo_model=\"t\")\n",
    "net.res_trafo"
   ]
  },
  {
   "cell_type": "code",
   "execution_count": 49,
   "metadata": {},
   "outputs": [
    {
     "data": {
      "text/html": [
       "<div>\n",
       "<table border=\"1\" class=\"dataframe\">\n",
       "  <thead>\n",
       "    <tr style=\"text-align: right;\">\n",
       "      <th></th>\n",
       "      <th>p_hv_kw</th>\n",
       "      <th>q_hv_kvar</th>\n",
       "      <th>p_lv_kw</th>\n",
       "      <th>q_lv_kvar</th>\n",
       "      <th>pl_kw</th>\n",
       "      <th>ql_kvar</th>\n",
       "      <th>i_hv_ka</th>\n",
       "      <th>i_lv_ka</th>\n",
       "      <th>loading_percent</th>\n",
       "    </tr>\n",
       "  </thead>\n",
       "  <tbody>\n",
       "    <tr>\n",
       "      <th>0</th>\n",
       "      <td>-6730.348659</td>\n",
       "      <td>-569.72374</td>\n",
       "      <td>6765.6392</td>\n",
       "      <td>766.663363</td>\n",
       "      <td>35.290541</td>\n",
       "      <td>196.939623</td>\n",
       "      <td>0.034728</td>\n",
       "      <td>0.191854</td>\n",
       "      <td>26.584104</td>\n",
       "    </tr>\n",
       "  </tbody>\n",
       "</table>\n",
       "</div>"
      ],
      "text/plain": [
       "       p_hv_kw  q_hv_kvar    p_lv_kw   q_lv_kvar      pl_kw     ql_kvar  \\\n",
       "0 -6730.348659 -569.72374  6765.6392  766.663363  35.290541  196.939623   \n",
       "\n",
       "    i_hv_ka   i_lv_ka  loading_percent  \n",
       "0  0.034728  0.191854        26.584104  "
      ]
     },
     "execution_count": 49,
     "metadata": {},
     "output_type": "execute_result"
    }
   ],
   "source": [
    "pp.runpp(net, trafo_model=\"pi\")\n",
    "net.res_trafo"
   ]
  },
  {
   "cell_type": "markdown",
   "metadata": {},
   "source": [
    "For a definition of the different transformer model see the power flow model documentation of the transformer element."
   ]
  },
  {
   "cell_type": "markdown",
   "metadata": {},
   "source": [
    "## Transformer Loading"
   ]
  },
  {
   "cell_type": "markdown",
   "metadata": {},
   "source": [
    "The transformer loading can either be calculated in relation to the rated current:"
   ]
  },
  {
   "cell_type": "code",
   "execution_count": 50,
   "metadata": {},
   "outputs": [
    {
     "data": {
      "text/html": [
       "<div>\n",
       "<table border=\"1\" class=\"dataframe\">\n",
       "  <thead>\n",
       "    <tr style=\"text-align: right;\">\n",
       "      <th></th>\n",
       "      <th>p_hv_kw</th>\n",
       "      <th>q_hv_kvar</th>\n",
       "      <th>p_lv_kw</th>\n",
       "      <th>q_lv_kvar</th>\n",
       "      <th>pl_kw</th>\n",
       "      <th>ql_kvar</th>\n",
       "      <th>i_hv_ka</th>\n",
       "      <th>i_lv_ka</th>\n",
       "      <th>loading_percent</th>\n",
       "    </tr>\n",
       "  </thead>\n",
       "  <tbody>\n",
       "    <tr>\n",
       "      <th>0</th>\n",
       "      <td>-6730.354263</td>\n",
       "      <td>-569.911445</td>\n",
       "      <td>6765.638417</td>\n",
       "      <td>766.853612</td>\n",
       "      <td>35.284154</td>\n",
       "      <td>196.942168</td>\n",
       "      <td>0.034728</td>\n",
       "      <td>0.191855</td>\n",
       "      <td>26.584187</td>\n",
       "    </tr>\n",
       "  </tbody>\n",
       "</table>\n",
       "</div>"
      ],
      "text/plain": [
       "       p_hv_kw   q_hv_kvar      p_lv_kw   q_lv_kvar      pl_kw     ql_kvar  \\\n",
       "0 -6730.354263 -569.911445  6765.638417  766.853612  35.284154  196.942168   \n",
       "\n",
       "    i_hv_ka   i_lv_ka  loading_percent  \n",
       "0  0.034728  0.191855        26.584187  "
      ]
     },
     "execution_count": 50,
     "metadata": {},
     "output_type": "execute_result"
    }
   ],
   "source": [
    "pp.runpp(net, trafo_loading=\"current\")\n",
    "net.res_trafo"
   ]
  },
  {
   "cell_type": "markdown",
   "metadata": {},
   "source": [
    "or to the rated power of the transformer:"
   ]
  },
  {
   "cell_type": "code",
   "execution_count": 51,
   "metadata": {},
   "outputs": [
    {
     "data": {
      "text/html": [
       "<div>\n",
       "<table border=\"1\" class=\"dataframe\">\n",
       "  <thead>\n",
       "    <tr style=\"text-align: right;\">\n",
       "      <th></th>\n",
       "      <th>p_hv_kw</th>\n",
       "      <th>q_hv_kvar</th>\n",
       "      <th>p_lv_kw</th>\n",
       "      <th>q_lv_kvar</th>\n",
       "      <th>pl_kw</th>\n",
       "      <th>ql_kvar</th>\n",
       "      <th>i_hv_ka</th>\n",
       "      <th>i_lv_ka</th>\n",
       "      <th>loading_percent</th>\n",
       "    </tr>\n",
       "  </thead>\n",
       "  <tbody>\n",
       "    <tr>\n",
       "      <th>0</th>\n",
       "      <td>-6730.354263</td>\n",
       "      <td>-569.911445</td>\n",
       "      <td>6765.638417</td>\n",
       "      <td>766.853612</td>\n",
       "      <td>35.284154</td>\n",
       "      <td>196.942168</td>\n",
       "      <td>0.034728</td>\n",
       "      <td>0.191855</td>\n",
       "      <td>27.235837</td>\n",
       "    </tr>\n",
       "  </tbody>\n",
       "</table>\n",
       "</div>"
      ],
      "text/plain": [
       "       p_hv_kw   q_hv_kvar      p_lv_kw   q_lv_kvar      pl_kw     ql_kvar  \\\n",
       "0 -6730.354263 -569.911445  6765.638417  766.853612  35.284154  196.942168   \n",
       "\n",
       "    i_hv_ka   i_lv_ka  loading_percent  \n",
       "0  0.034728  0.191855        27.235837  "
      ]
     },
     "execution_count": 51,
     "metadata": {},
     "output_type": "execute_result"
    }
   ],
   "source": [
    "pp.runpp(net, trafo_loading=\"power\")\n",
    "net.res_trafo"
   ]
  },
  {
   "cell_type": "markdown",
   "metadata": {},
   "source": [
    "The transformer loading does not have an influence on other power flow results besides the loading_percent parameter."
   ]
  },
  {
   "cell_type": "markdown",
   "metadata": {},
   "source": [
    "## Generator Reactive Power Limits"
   ]
  },
  {
   "cell_type": "markdown",
   "metadata": {},
   "source": [
    "The generator has reactive power limits of -3000...3000 kvar:"
   ]
  },
  {
   "cell_type": "code",
   "execution_count": 52,
   "metadata": {},
   "outputs": [
    {
     "data": {
      "text/html": [
       "<div>\n",
       "<table border=\"1\" class=\"dataframe\">\n",
       "  <thead>\n",
       "    <tr style=\"text-align: right;\">\n",
       "      <th></th>\n",
       "      <th>name</th>\n",
       "      <th>bus</th>\n",
       "      <th>p_kw</th>\n",
       "      <th>vm_pu</th>\n",
       "      <th>sn_kva</th>\n",
       "      <th>min_q_kvar</th>\n",
       "      <th>max_q_kvar</th>\n",
       "      <th>scaling</th>\n",
       "      <th>in_service</th>\n",
       "      <th>type</th>\n",
       "    </tr>\n",
       "  </thead>\n",
       "  <tbody>\n",
       "    <tr>\n",
       "      <th>0</th>\n",
       "      <td>generator</td>\n",
       "      <td>5</td>\n",
       "      <td>-6000.0</td>\n",
       "      <td>1.03</td>\n",
       "      <td>NaN</td>\n",
       "      <td>-3000.0</td>\n",
       "      <td>3000.0</td>\n",
       "      <td>1.0</td>\n",
       "      <td>True</td>\n",
       "      <td>None</td>\n",
       "    </tr>\n",
       "  </tbody>\n",
       "</table>\n",
       "</div>"
      ],
      "text/plain": [
       "        name  bus    p_kw  vm_pu  sn_kva  min_q_kvar  max_q_kvar  scaling  \\\n",
       "0  generator    5 -6000.0   1.03     NaN     -3000.0      3000.0      1.0   \n",
       "\n",
       "  in_service  type  \n",
       "0       True  None  "
      ]
     },
     "execution_count": 52,
     "metadata": {},
     "output_type": "execute_result"
    }
   ],
   "source": [
    "net.gen"
   ]
  },
  {
   "cell_type": "markdown",
   "metadata": {},
   "source": [
    "which are however exceeded in the power flow results, because the enforce_q_lims option defaults to False:"
   ]
  },
  {
   "cell_type": "code",
   "execution_count": 53,
   "metadata": {},
   "outputs": [
    {
     "data": {
      "text/html": [
       "<div>\n",
       "<table border=\"1\" class=\"dataframe\">\n",
       "  <thead>\n",
       "    <tr style=\"text-align: right;\">\n",
       "      <th></th>\n",
       "      <th>p_kw</th>\n",
       "      <th>q_kvar</th>\n",
       "      <th>va_degree</th>\n",
       "      <th>vm_pu</th>\n",
       "    </tr>\n",
       "  </thead>\n",
       "  <tbody>\n",
       "    <tr>\n",
       "      <th>0</th>\n",
       "      <td>-6000.0</td>\n",
       "      <td>-3513.228774</td>\n",
       "      <td>-98.251691</td>\n",
       "      <td>1.03</td>\n",
       "    </tr>\n",
       "  </tbody>\n",
       "</table>\n",
       "</div>"
      ],
      "text/plain": [
       "     p_kw       q_kvar  va_degree  vm_pu\n",
       "0 -6000.0 -3513.228774 -98.251691   1.03"
      ]
     },
     "execution_count": 53,
     "metadata": {},
     "output_type": "execute_result"
    }
   ],
   "source": [
    "pp.runpp(net)\n",
    "net.res_gen"
   ]
  },
  {
   "cell_type": "markdown",
   "metadata": {},
   "source": [
    "If the enforce_q_lims parameter is set to True, the reactive power limit is complied with, while the voltage deviates from the voltage set point of the generator:"
   ]
  },
  {
   "cell_type": "code",
   "execution_count": 54,
   "metadata": {},
   "outputs": [
    {
     "data": {
      "text/html": [
       "<div>\n",
       "<table border=\"1\" class=\"dataframe\">\n",
       "  <thead>\n",
       "    <tr style=\"text-align: right;\">\n",
       "      <th></th>\n",
       "      <th>p_kw</th>\n",
       "      <th>q_kvar</th>\n",
       "      <th>va_degree</th>\n",
       "      <th>vm_pu</th>\n",
       "    </tr>\n",
       "  </thead>\n",
       "  <tbody>\n",
       "    <tr>\n",
       "      <th>0</th>\n",
       "      <td>-6000.0</td>\n",
       "      <td>-3000.0</td>\n",
       "      <td>-98.225446</td>\n",
       "      <td>1.027434</td>\n",
       "    </tr>\n",
       "  </tbody>\n",
       "</table>\n",
       "</div>"
      ],
      "text/plain": [
       "     p_kw  q_kvar  va_degree     vm_pu\n",
       "0 -6000.0 -3000.0 -98.225446  1.027434"
      ]
     },
     "execution_count": 54,
     "metadata": {},
     "output_type": "execute_result"
    }
   ],
   "source": [
    "pp.runpp(net, enforce_q_lims=True)\n",
    "net.res_gen"
   ]
  },
  {
   "cell_type": "markdown",
   "metadata": {},
   "source": [
    "If you want to know what to do when a power flow does not converge, continue with the [diagnostic tutorial](diagnostic.ipynb)."
   ]
  },
  {
   "cell_type": "markdown",
   "metadata": {},
   "source": [
    "## Changing the Power Flow Algorithm"
   ]
  },
  {
   "cell_type": "markdown",
   "metadata": {},
   "source": [
    "There are 5 algorithms available for solving the power flow problem:\n",
    "* \"nr\" **Newton-Raphson** - default algorithm option\n",
    "* \"bfsw\" **Backward/Forward Sweep** (specially suited for radial and weakly-meshed networks)\n",
    "* \"gs\" **Gauss-Seidel** (pypower implementation)\n",
    "* \"fdbx\" **Fast-Decoupled**  power flow using XB method (pypower implementation)\n",
    "* \"fdxb\" **Fast-Decoupled**  power flow using BX method (pypower implementation)"
   ]
  },
  {
   "cell_type": "markdown",
   "metadata": {},
   "source": [
    "Each algorithm can be selected by passing corresponding string {\"nr\", \"bfsw\", \"gs\", \"fdbx\", \"fdxb\"} to the parameter algorithm.  \n",
    "For example, if you want to use the **Backward/Forward sweep** algorithm:"
   ]
  },
  {
   "cell_type": "code",
   "execution_count": 55,
   "metadata": {
    "collapsed": true
   },
   "outputs": [],
   "source": [
    "pp.runpp(net, algorithm=\"bfsw\")"
   ]
  },
  {
   "cell_type": "markdown",
   "metadata": {},
   "source": [
    "Or in the case of **Gauss-Seidel**:"
   ]
  },
  {
   "cell_type": "code",
   "execution_count": 56,
   "metadata": {
    "collapsed": true
   },
   "outputs": [],
   "source": [
    "pp.runpp(net, algorithm=\"gs\")"
   ]
  },
  {
   "cell_type": "markdown",
   "metadata": {},
   "source": [
    "If power flow is run without setting the algorithm parameter, **Newton-Raphson** will be used as the default algorithm option."
   ]
  },
  {
   "cell_type": "code",
   "execution_count": 57,
   "metadata": {
    "collapsed": true
   },
   "outputs": [],
   "source": [
    "pp.runpp(net)"
   ]
  },
  {
   "cell_type": "markdown",
   "metadata": {},
   "source": [
    "There is also possibility to select **maximum number of iterations** that will be used for the specific algorithm.  \n",
    "In the following example max_iteration is set to 10, which is obviously not enough for the Gauss-Seidel to converge:"
   ]
  },
  {
   "cell_type": "code",
   "execution_count": 58,
   "metadata": {},
   "outputs": [
    {
     "ename": "LoadflowNotConverged",
     "evalue": "Power Flow gs did not converge after 10 iterations!",
     "output_type": "error",
     "traceback": [
      "\u001b[1;31m---------------------------------------------------------------------------\u001b[0m",
      "\u001b[1;31mLoadflowNotConverged\u001b[0m                      Traceback (most recent call last)",
      "\u001b[1;32m<ipython-input-58-ac88891f27a7>\u001b[0m in \u001b[0;36m<module>\u001b[1;34m()\u001b[0m\n\u001b[1;32m----> 1\u001b[1;33m \u001b[0mpp\u001b[0m\u001b[1;33m.\u001b[0m\u001b[0mrunpp\u001b[0m\u001b[1;33m(\u001b[0m\u001b[0mnet\u001b[0m\u001b[1;33m,\u001b[0m \u001b[0malgorithm\u001b[0m\u001b[1;33m=\u001b[0m\u001b[1;34m\"gs\"\u001b[0m\u001b[1;33m,\u001b[0m \u001b[0mmax_iteration\u001b[0m\u001b[1;33m=\u001b[0m\u001b[1;36m10\u001b[0m\u001b[1;33m)\u001b[0m\u001b[1;33m\u001b[0m\u001b[0m\n\u001b[0m",
      "\u001b[1;32mD:\\Python\\pandapower\\pandapower\\run.py\u001b[0m in \u001b[0;36mrunpp\u001b[1;34m(net, algorithm, calculate_voltage_angles, init, max_iteration, tolerance_kva, trafo_model, trafo_loading, enforce_q_lims, numba, recycle, check_connectivity, r_switch, voltage_depend_loads, delta_q, **kwargs)\u001b[0m\n\u001b[0;32m    242\u001b[0m     \u001b[1;31m#net.__internal_options.update(overrule_options)\u001b[0m\u001b[1;33m\u001b[0m\u001b[1;33m\u001b[0m\u001b[0m\n\u001b[0;32m    243\u001b[0m     \u001b[0mnet\u001b[0m\u001b[1;33m.\u001b[0m\u001b[0m_options\u001b[0m\u001b[1;33m.\u001b[0m\u001b[0mupdate\u001b[0m\u001b[1;33m(\u001b[0m\u001b[0moverrule_options\u001b[0m\u001b[1;33m)\u001b[0m\u001b[1;33m\u001b[0m\u001b[0m\n\u001b[1;32m--> 244\u001b[1;33m     \u001b[0m_powerflow\u001b[0m\u001b[1;33m(\u001b[0m\u001b[0mnet\u001b[0m\u001b[1;33m,\u001b[0m \u001b[1;33m**\u001b[0m\u001b[0mkwargs\u001b[0m\u001b[1;33m)\u001b[0m\u001b[1;33m\u001b[0m\u001b[0m\n\u001b[0m\u001b[0;32m    245\u001b[0m \u001b[1;33m\u001b[0m\u001b[0m\n\u001b[0;32m    246\u001b[0m \u001b[1;33m\u001b[0m\u001b[0m\n",
      "\u001b[1;32mD:\\Python\\pandapower\\pandapower\\powerflow.py\u001b[0m in \u001b[0;36m_powerflow\u001b[1;34m(net, **kwargs)\u001b[0m\n\u001b[0;32m     75\u001b[0m     \u001b[1;31m# raise if PF was not successful. If DC -> success is always 1\u001b[0m\u001b[1;33m\u001b[0m\u001b[1;33m\u001b[0m\u001b[0m\n\u001b[0;32m     76\u001b[0m     \u001b[1;32mif\u001b[0m \u001b[0mresult\u001b[0m\u001b[1;33m[\u001b[0m\u001b[1;34m\"success\"\u001b[0m\u001b[1;33m]\u001b[0m \u001b[1;33m!=\u001b[0m \u001b[1;36m1\u001b[0m\u001b[1;33m:\u001b[0m\u001b[1;33m\u001b[0m\u001b[0m\n\u001b[1;32m---> 77\u001b[1;33m         \u001b[1;32mraise\u001b[0m \u001b[0mLoadflowNotConverged\u001b[0m\u001b[1;33m(\u001b[0m\u001b[1;34m\"Power Flow {0} did not converge after {1} iterations!\"\u001b[0m\u001b[1;33m.\u001b[0m\u001b[0mformat\u001b[0m\u001b[1;33m(\u001b[0m\u001b[0malgorithm\u001b[0m\u001b[1;33m,\u001b[0m \u001b[0mmax_iteration\u001b[0m\u001b[1;33m)\u001b[0m\u001b[1;33m)\u001b[0m\u001b[1;33m\u001b[0m\u001b[0m\n\u001b[0m\u001b[0;32m     78\u001b[0m     \u001b[1;32melse\u001b[0m\u001b[1;33m:\u001b[0m\u001b[1;33m\u001b[0m\u001b[0m\n\u001b[0;32m     79\u001b[0m         \u001b[0mnet\u001b[0m\u001b[1;33m[\u001b[0m\u001b[1;34m\"_ppc\"\u001b[0m\u001b[1;33m]\u001b[0m \u001b[1;33m=\u001b[0m \u001b[0mresult\u001b[0m\u001b[1;33m\u001b[0m\u001b[0m\n",
      "\u001b[1;31mLoadflowNotConverged\u001b[0m: Power Flow gs did not converge after 10 iterations!"
     ]
    }
   ],
   "source": [
    "pp.runpp(net, algorithm=\"gs\", max_iteration=10)"
   ]
  },
  {
   "cell_type": "markdown",
   "metadata": {},
   "source": [
    "## Setting User Options"
   ]
  },
  {
   "cell_type": "markdown",
   "metadata": {},
   "source": [
    "It is possible to set user options that override the pandapower default parameters for one specific network. For the example network, the voltage angles are calculated by default:"
   ]
  },
  {
   "cell_type": "code",
   "execution_count": 59,
   "metadata": {},
   "outputs": [
    {
     "data": {
      "text/html": [
       "<div>\n",
       "<table border=\"1\" class=\"dataframe\">\n",
       "  <thead>\n",
       "    <tr style=\"text-align: right;\">\n",
       "      <th></th>\n",
       "      <th>vm_pu</th>\n",
       "      <th>va_degree</th>\n",
       "      <th>p_kw</th>\n",
       "      <th>q_kvar</th>\n",
       "    </tr>\n",
       "  </thead>\n",
       "  <tbody>\n",
       "    <tr>\n",
       "      <th>0</th>\n",
       "      <td>1.020000</td>\n",
       "      <td>50.000000</td>\n",
       "      <td>6727.268201</td>\n",
       "      <td>7262.701273</td>\n",
       "    </tr>\n",
       "    <tr>\n",
       "      <th>1</th>\n",
       "      <td>1.020842</td>\n",
       "      <td>50.032006</td>\n",
       "      <td>0.000000</td>\n",
       "      <td>0.000000</td>\n",
       "    </tr>\n",
       "    <tr>\n",
       "      <th>2</th>\n",
       "      <td>1.020842</td>\n",
       "      <td>50.032006</td>\n",
       "      <td>0.000000</td>\n",
       "      <td>-1000.434322</td>\n",
       "    </tr>\n",
       "    <tr>\n",
       "      <th>3</th>\n",
       "      <td>1.024513</td>\n",
       "      <td>-98.316276</td>\n",
       "      <td>0.000000</td>\n",
       "      <td>0.000000</td>\n",
       "    </tr>\n",
       "    <tr>\n",
       "      <th>4</th>\n",
       "      <td>1.024513</td>\n",
       "      <td>-98.316276</td>\n",
       "      <td>0.000000</td>\n",
       "      <td>0.000000</td>\n",
       "    </tr>\n",
       "    <tr>\n",
       "      <th>5</th>\n",
       "      <td>1.030000</td>\n",
       "      <td>-98.251691</td>\n",
       "      <td>-6000.000000</td>\n",
       "      <td>-3513.228774</td>\n",
       "    </tr>\n",
       "    <tr>\n",
       "      <th>6</th>\n",
       "      <td>1.023156</td>\n",
       "      <td>-98.166885</td>\n",
       "      <td>-800.000000</td>\n",
       "      <td>2900.000000</td>\n",
       "    </tr>\n",
       "  </tbody>\n",
       "</table>\n",
       "</div>"
      ],
      "text/plain": [
       "      vm_pu  va_degree         p_kw       q_kvar\n",
       "0  1.020000  50.000000  6727.268201  7262.701273\n",
       "1  1.020842  50.032006     0.000000     0.000000\n",
       "2  1.020842  50.032006     0.000000 -1000.434322\n",
       "3  1.024513 -98.316276     0.000000     0.000000\n",
       "4  1.024513 -98.316276     0.000000     0.000000\n",
       "5  1.030000 -98.251691 -6000.000000 -3513.228774\n",
       "6  1.023156 -98.166885  -800.000000  2900.000000"
      ]
     },
     "execution_count": 59,
     "metadata": {},
     "output_type": "execute_result"
    }
   ],
   "source": [
    "pp.runpp(net)\n",
    "net.res_bus"
   ]
  },
  {
   "cell_type": "markdown",
   "metadata": {},
   "source": [
    "We now set the option calculate_voltage_angles to False with the set_user_pf_options function:"
   ]
  },
  {
   "cell_type": "code",
   "execution_count": 60,
   "metadata": {
    "collapsed": true
   },
   "outputs": [],
   "source": [
    "pp.set_user_pf_options(net, calculate_voltage_angles=False)"
   ]
  },
  {
   "cell_type": "markdown",
   "metadata": {},
   "source": [
    "If we run another power flow without specifing parameters, the voltage angles are neglected:"
   ]
  },
  {
   "cell_type": "code",
   "execution_count": 61,
   "metadata": {},
   "outputs": [
    {
     "data": {
      "text/html": [
       "<div>\n",
       "<table border=\"1\" class=\"dataframe\">\n",
       "  <thead>\n",
       "    <tr style=\"text-align: right;\">\n",
       "      <th></th>\n",
       "      <th>vm_pu</th>\n",
       "      <th>va_degree</th>\n",
       "      <th>p_kw</th>\n",
       "      <th>q_kvar</th>\n",
       "    </tr>\n",
       "  </thead>\n",
       "  <tbody>\n",
       "    <tr>\n",
       "      <th>0</th>\n",
       "      <td>1.020000</td>\n",
       "      <td>0.000000</td>\n",
       "      <td>6727.268201</td>\n",
       "      <td>7262.701273</td>\n",
       "    </tr>\n",
       "    <tr>\n",
       "      <th>1</th>\n",
       "      <td>1.020842</td>\n",
       "      <td>0.032006</td>\n",
       "      <td>0.000000</td>\n",
       "      <td>0.000000</td>\n",
       "    </tr>\n",
       "    <tr>\n",
       "      <th>2</th>\n",
       "      <td>1.020842</td>\n",
       "      <td>0.032006</td>\n",
       "      <td>0.000000</td>\n",
       "      <td>-1000.434322</td>\n",
       "    </tr>\n",
       "    <tr>\n",
       "      <th>3</th>\n",
       "      <td>1.024513</td>\n",
       "      <td>1.683724</td>\n",
       "      <td>0.000000</td>\n",
       "      <td>0.000000</td>\n",
       "    </tr>\n",
       "    <tr>\n",
       "      <th>4</th>\n",
       "      <td>1.024513</td>\n",
       "      <td>1.683724</td>\n",
       "      <td>0.000000</td>\n",
       "      <td>0.000000</td>\n",
       "    </tr>\n",
       "    <tr>\n",
       "      <th>5</th>\n",
       "      <td>1.030000</td>\n",
       "      <td>1.748309</td>\n",
       "      <td>-6000.000000</td>\n",
       "      <td>-3513.228774</td>\n",
       "    </tr>\n",
       "    <tr>\n",
       "      <th>6</th>\n",
       "      <td>1.023156</td>\n",
       "      <td>1.833115</td>\n",
       "      <td>-800.000000</td>\n",
       "      <td>2900.000000</td>\n",
       "    </tr>\n",
       "  </tbody>\n",
       "</table>\n",
       "</div>"
      ],
      "text/plain": [
       "      vm_pu  va_degree         p_kw       q_kvar\n",
       "0  1.020000   0.000000  6727.268201  7262.701273\n",
       "1  1.020842   0.032006     0.000000     0.000000\n",
       "2  1.020842   0.032006     0.000000 -1000.434322\n",
       "3  1.024513   1.683724     0.000000     0.000000\n",
       "4  1.024513   1.683724     0.000000     0.000000\n",
       "5  1.030000   1.748309 -6000.000000 -3513.228774\n",
       "6  1.023156   1.833115  -800.000000  2900.000000"
      ]
     },
     "execution_count": 61,
     "metadata": {},
     "output_type": "execute_result"
    }
   ],
   "source": [
    "pp.runpp(net)\n",
    "net.res_bus"
   ]
  },
  {
   "cell_type": "markdown",
   "metadata": {},
   "source": [
    "This change in standard behaviour is only valid for this one network.\n",
    "\n",
    "When a parameter is specified directly in the runpp function, it overrides the user option:"
   ]
  },
  {
   "cell_type": "code",
   "execution_count": 62,
   "metadata": {},
   "outputs": [
    {
     "data": {
      "text/html": [
       "<div>\n",
       "<table border=\"1\" class=\"dataframe\">\n",
       "  <thead>\n",
       "    <tr style=\"text-align: right;\">\n",
       "      <th></th>\n",
       "      <th>vm_pu</th>\n",
       "      <th>va_degree</th>\n",
       "      <th>p_kw</th>\n",
       "      <th>q_kvar</th>\n",
       "    </tr>\n",
       "  </thead>\n",
       "  <tbody>\n",
       "    <tr>\n",
       "      <th>0</th>\n",
       "      <td>1.020000</td>\n",
       "      <td>50.000000</td>\n",
       "      <td>6727.268201</td>\n",
       "      <td>7262.701273</td>\n",
       "    </tr>\n",
       "    <tr>\n",
       "      <th>1</th>\n",
       "      <td>1.020842</td>\n",
       "      <td>50.032006</td>\n",
       "      <td>0.000000</td>\n",
       "      <td>0.000000</td>\n",
       "    </tr>\n",
       "    <tr>\n",
       "      <th>2</th>\n",
       "      <td>1.020842</td>\n",
       "      <td>50.032006</td>\n",
       "      <td>0.000000</td>\n",
       "      <td>-1000.434322</td>\n",
       "    </tr>\n",
       "    <tr>\n",
       "      <th>3</th>\n",
       "      <td>1.024513</td>\n",
       "      <td>-98.316276</td>\n",
       "      <td>0.000000</td>\n",
       "      <td>0.000000</td>\n",
       "    </tr>\n",
       "    <tr>\n",
       "      <th>4</th>\n",
       "      <td>1.024513</td>\n",
       "      <td>-98.316276</td>\n",
       "      <td>0.000000</td>\n",
       "      <td>0.000000</td>\n",
       "    </tr>\n",
       "    <tr>\n",
       "      <th>5</th>\n",
       "      <td>1.030000</td>\n",
       "      <td>-98.251691</td>\n",
       "      <td>-6000.000000</td>\n",
       "      <td>-3513.228774</td>\n",
       "    </tr>\n",
       "    <tr>\n",
       "      <th>6</th>\n",
       "      <td>1.023156</td>\n",
       "      <td>-98.166885</td>\n",
       "      <td>-800.000000</td>\n",
       "      <td>2900.000000</td>\n",
       "    </tr>\n",
       "  </tbody>\n",
       "</table>\n",
       "</div>"
      ],
      "text/plain": [
       "      vm_pu  va_degree         p_kw       q_kvar\n",
       "0  1.020000  50.000000  6727.268201  7262.701273\n",
       "1  1.020842  50.032006     0.000000     0.000000\n",
       "2  1.020842  50.032006     0.000000 -1000.434322\n",
       "3  1.024513 -98.316276     0.000000     0.000000\n",
       "4  1.024513 -98.316276     0.000000     0.000000\n",
       "5  1.030000 -98.251691 -6000.000000 -3513.228774\n",
       "6  1.023156 -98.166885  -800.000000  2900.000000"
      ]
     },
     "execution_count": 62,
     "metadata": {},
     "output_type": "execute_result"
    }
   ],
   "source": [
    "pp.runpp(net, calculate_voltage_angles=True)\n",
    "net.res_bus"
   ]
  },
  {
   "cell_type": "markdown",
   "metadata": {},
   "source": [
    "The hierarchy for power flow options is therefore:\n",
    "    1. Arguments passed to runpp\n",
    "    2. User Options\n",
    "    3. runpp default parameters"
   ]
  }
 ],
 "metadata": {
  "anaconda-cloud": {},
  "kernelspec": {
   "display_name": "Python [conda root]",
   "language": "python",
   "name": "conda-root-py"
  },
  "language_info": {
   "codemirror_mode": {
    "name": "ipython",
    "version": 3
   },
   "file_extension": ".py",
   "mimetype": "text/x-python",
   "name": "python",
   "nbconvert_exporter": "python",
   "pygments_lexer": "ipython3",
   "version": "3.5.3"
  }
 },
 "nbformat": 4,
 "nbformat_minor": 1
}
